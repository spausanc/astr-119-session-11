{
 "cells": [
  {
   "cell_type": "code",
   "execution_count": null,
   "metadata": {},
   "outputs": [],
   "source": [
    "%matplotlib inline\n",
    "import matplotlib.pyplot as plt\n",
    "import numpy as np"
   ]
  },
  {
   "cell_type": "markdown",
   "metadata": {},
   "source": [
    "## Define a function and its integral"
   ]
  },
  {
   "cell_type": "code",
   "execution_count": null,
   "metadata": {},
   "outputs": [],
   "source": [
    "def dfdx(x, f):\n",
    "    return x**2 + x"
   ]
  },
  {
   "cell_type": "code",
   "execution_count": null,
   "metadata": {},
   "outputs": [],
   "source": [
    "def f_int(x, C):\n",
    "    return (x**3)/3. + 0.5*x**2 + C"
   ]
  },
  {
   "cell_type": "markdown",
   "metadata": {},
   "source": [
    "## Define 2nd order RK method"
   ]
  },
  {
   "cell_type": "code",
   "execution_count": null,
   "metadata": {},
   "outputs": [],
   "source": [
    "def rk2_core(x_i, f_i, h, g):\n",
    "    \n",
    "    # Advance f by a step h\n",
    "    \n",
    "    # Half step\n",
    "    x_ipoh = x_i + 0.5*h    #ipoh = i plus a half\n",
    "    f_ipoh = f_i + 0.5*h*g(x_i, f_i)\n",
    "    \n",
    "    # Full step\n",
    "    f_ipo = f_i + h*g(x_ipoh, f_ipoh)\n",
    "    \n",
    "    return f_ipo          #ipo = i plus one :o\n",
    "\n",
    "#I think here we're running the derivative on the right or left end of the function\n",
    "#so we can find the halfstep later on... "
   ]
  },
  {
   "cell_type": "markdown",
   "metadata": {},
   "source": [
    "## Define a wrapper routine for RK2"
   ]
  },
  {
   "cell_type": "code",
   "execution_count": null,
   "metadata": {},
   "outputs": [],
   "source": [
    "def rk2(dfdx, a, b, f_a, N):\n",
    "    \n",
    "    #dfdx = derivative wrapper routine x\n",
    "    #a = lower bound\n",
    "    #b = upper bound\n",
    "    #f_a = boundary condition at a\n",
    "    #N = number of steps\n",
    "    \n",
    "    # Define our steps\n",
    "    x = np.linspace(a, b, N)\n",
    "    \n",
    "    # A single step size\n",
    "    h = x[1] - x[0]\n",
    "    \n",
    "    # An array to hold f\n",
    "    f = np.zeros(N, dtype=float)\n",
    "    \n",
    "    f[0] = f_a # Value of f at a\n",
    "    \n",
    "    # Evolve f along x\n",
    "    for i in range(1, N):    #our value at 0 is f[0]=f_a\n",
    "        f[i] = rk2_core(x[i-1], f[i-1], h, dfdx)\n",
    "        \n",
    "    return x, f              #We return both so we can follow how each changes\n",
    "                            #with respect to the other"
   ]
  },
  {
   "cell_type": "markdown",
   "metadata": {},
   "source": [
    "A wrapper routine is ...?"
   ]
  },
  {
   "cell_type": "markdown",
   "metadata": {},
   "source": [
    "## Define the 4th order RK method"
   ]
  },
  {
   "cell_type": "code",
   "execution_count": null,
   "metadata": {},
   "outputs": [],
   "source": [
    "def rk4_core(x_i, f_i, h, g):\n",
    "    \n",
    "    # Define x at 1/2 step\n",
    "    x_ipoh = x_i + 0.5*h\n",
    "    \n",
    "    # Define x at 1 step\n",
    "    x_ipo = x_i +h\n",
    "    \n",
    "    # Advance f by a step h\n",
    "    \n",
    "    k_1 = h*g(x_i, f_i)\n",
    "    k_2 = h*g(x_ipoh, f_i + 0.5*k_1)\n",
    "    k_3 = h*g(x_ipoh, f_i + 0.5*k_2)\n",
    "    k_4 = h*g(x_ipo, f_i + k_3)\n",
    "    \n",
    "    f_ipo = f_i + (k_1 + 2*k_2 + 2*k_3 + k_4)/6.\n",
    "    \n",
    "    return f_ipo"
   ]
  },
  {
   "cell_type": "markdown",
   "metadata": {},
   "source": [
    "## Define a wrapper for RK4"
   ]
  },
  {
   "cell_type": "code",
   "execution_count": null,
   "metadata": {},
   "outputs": [],
   "source": [
    "def rk4(dfdx, a, b, f_a, N):\n",
    "    \n",
    "    #dfdx = derivative wrapper routine x\n",
    "    #a = lower bound\n",
    "    #b = upper bound\n",
    "    #f_a = boundary condition at a\n",
    "    #N = number of steps\n",
    "    \n",
    "    # Define our steps\n",
    "    x = np.linspace(a, b, N)\n",
    "    \n",
    "    # A single step size\n",
    "    h = x[1] - x[0]\n",
    "    \n",
    "    # An array to hold f\n",
    "    f = np.zeros(N, dtype=float)\n",
    "    \n",
    "    f[0] = f_a # Value of f at a\n",
    "    \n",
    "    # Evolve f along x\n",
    "    for i in range(1, N):    #our value at 0 is f[0]=f_a\n",
    "        f[i] = rk4_core(x[i-1], f[i-1], h, dfdx)\n",
    "        \n",
    "    return x, f"
   ]
  },
  {
   "cell_type": "markdown",
   "metadata": {},
   "source": [
    "...\n",
    "Here we decided to take 4 steps and we got a really good approximation (to 10 to the -16, which is as close as the computer can caluclate due to the bit size). Even if we had taken a smaller amount of steps, it would have been still good.\n",
    "\n",
    "This means that, even though we don't know how many steps we need specifically, we don't need that many in general. \n",
    "\n",
    "In sinusoidal functions, steps must be smaller than the period of the function\n",
    "..."
   ]
  },
  {
   "cell_type": "markdown",
   "metadata": {},
   "source": [
    "## Perform the integration"
   ]
  },
  {
   "cell_type": "code",
   "execution_count": null,
   "metadata": {
    "scrolled": true
   },
   "outputs": [],
   "source": [
    "a = 0.0\n",
    "b = 1.0\n",
    "f_a = 0.0\n",
    "N = 10\n",
    "x_2, f_2 = rk2(dfdx, a, b, f_a, N)\n",
    "x_4, f_4 = rk4(dfdx, a, b, f_a, N)\n",
    "x = x_2.copy() #Remember: creating a copy of x_2 array, called 'x', so we can edit it freely\n",
    "plt.plot(x_2, f_2, label = 'RK2')\n",
    "plt.plot(x_4, f_4, label = 'RK4')\n",
    "plt.plot(x, f_int(x, f_a), 'o', label='Analytic')\n",
    "plt.legend(frameon=False)"
   ]
  },
  {
   "cell_type": "markdown",
   "metadata": {},
   "source": [
    "## Plot against the error"
   ]
  },
  {
   "cell_type": "code",
   "execution_count": null,
   "metadata": {
    "scrolled": true
   },
   "outputs": [],
   "source": [
    "#Gotta add other stuff\n",
    "a = 0.0\n",
    "b = 1.0\n",
    "f_a = 1.0\n",
    "N = 10\n",
    "x_2, f_2 = rk2(dfdx, a, b, f_a, N)\n",
    "x_4, f_4 = rk4(dfdx, a, b, f_a, N)\n",
    "x = x_2.copy() #Remember: creating a copy of x_2 array, called 'x', so we can edit it freely\n",
    "f_analytic = f_int(x, f_a)\n",
    "error_2 = (f_2 - f_analytic)/f_analytic\n",
    "error_4 = (f_4 - f_analytic)/f_analytic\n",
    "\n",
    "plt.plot(x_2, error_2, label = 'RK2')\n",
    "plt.plot(x_4, error_4, label = 'RK4')\n",
    "#plt.ylim(-1.e-3, 1.0e-4)\n",
    "\n",
    "#plt.plot(x, f_int(x, f_a), 'o', label='Analytic')\n",
    "plt.legend(frameon=False)"
   ]
  },
  {
   "cell_type": "code",
   "execution_count": null,
   "metadata": {},
   "outputs": [],
   "source": []
  }
 ],
 "metadata": {
  "kernelspec": {
   "display_name": "Python 3",
   "language": "python",
   "name": "python3"
  },
  "language_info": {
   "codemirror_mode": {
    "name": "ipython",
    "version": 3
   },
   "file_extension": ".py",
   "mimetype": "text/x-python",
   "name": "python",
   "nbconvert_exporter": "python",
   "pygments_lexer": "ipython3",
   "version": "3.6.5"
  }
 },
 "nbformat": 4,
 "nbformat_minor": 2
}
